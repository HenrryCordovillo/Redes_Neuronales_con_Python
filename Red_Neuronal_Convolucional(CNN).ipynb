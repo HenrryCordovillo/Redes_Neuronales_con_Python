{
  "nbformat": 4,
  "nbformat_minor": 0,
  "metadata": {
    "colab": {
      "name": "Red Neuronal Convolucional(CNN).ipynb",
      "provenance": [],
      "authorship_tag": "ABX9TyPJrWSSkMQs5V/+1UCNlYDs",
      "include_colab_link": true
    },
    "kernelspec": {
      "name": "python3",
      "display_name": "Python 3"
    }
  },
  "cells": [
    {
      "cell_type": "markdown",
      "metadata": {
        "id": "view-in-github",
        "colab_type": "text"
      },
      "source": [
        "<a href=\"https://colab.research.google.com/github/HenrryCordovillo/Redes_Neuronales_con_Python/blob/main/Red_Neuronal_Convolucional(CNN).ipynb\" target=\"_parent\"><img src=\"https://colab.research.google.com/assets/colab-badge.svg\" alt=\"Open In Colab\"/></a>"
      ]
    },
    {
      "cell_type": "code",
      "metadata": {
        "id": "_gBo_5ymrSYF"
      },
      "source": [
        "import numpy as np\r\n",
        "import matplotlib.pyplot as plt\r\n",
        "import pandas as pd\r\n",
        "import seaborn as sns\r\n",
        "from tensorflow.keras.models import Sequential\r\n",
        "from tensorflow.keras.layers import Dense\r\n",
        "from tensorflow.keras.optimizers import Adam\r\n",
        "from sklearn.metrics import mean_squared_error,mean_absolute_error,explained_variance_score\r\n",
        "from sklearn.metrics import classification_report,confusion_matrix"
      ],
      "execution_count": 76,
      "outputs": []
    },
    {
      "cell_type": "code",
      "metadata": {
        "colab": {
          "base_uri": "https://localhost:8080/",
          "height": 419
        },
        "id": "B2wciFk_vwQB",
        "outputId": "f8e42438-1871-470b-e930-d0629105e622"
      },
      "source": [
        "data = pd.read_csv('pima-indians-diabetes.csv')\r\n",
        "data"
      ],
      "execution_count": 77,
      "outputs": [
        {
          "output_type": "execute_result",
          "data": {
            "text/html": [
              "<div>\n",
              "<style scoped>\n",
              "    .dataframe tbody tr th:only-of-type {\n",
              "        vertical-align: middle;\n",
              "    }\n",
              "\n",
              "    .dataframe tbody tr th {\n",
              "        vertical-align: top;\n",
              "    }\n",
              "\n",
              "    .dataframe thead th {\n",
              "        text-align: right;\n",
              "    }\n",
              "</style>\n",
              "<table border=\"1\" class=\"dataframe\">\n",
              "  <thead>\n",
              "    <tr style=\"text-align: right;\">\n",
              "      <th></th>\n",
              "      <th>enbarazos</th>\n",
              "      <th>plas</th>\n",
              "      <th>presion</th>\n",
              "      <th>piel</th>\n",
              "      <th>prueba</th>\n",
              "      <th>masa</th>\n",
              "      <th>pedigri</th>\n",
              "      <th>edad</th>\n",
              "      <th>diabetes</th>\n",
              "    </tr>\n",
              "  </thead>\n",
              "  <tbody>\n",
              "    <tr>\n",
              "      <th>0</th>\n",
              "      <td>6</td>\n",
              "      <td>148</td>\n",
              "      <td>72</td>\n",
              "      <td>35</td>\n",
              "      <td>0</td>\n",
              "      <td>33.6</td>\n",
              "      <td>0.627</td>\n",
              "      <td>50</td>\n",
              "      <td>1</td>\n",
              "    </tr>\n",
              "    <tr>\n",
              "      <th>1</th>\n",
              "      <td>1</td>\n",
              "      <td>85</td>\n",
              "      <td>66</td>\n",
              "      <td>29</td>\n",
              "      <td>0</td>\n",
              "      <td>26.6</td>\n",
              "      <td>0.351</td>\n",
              "      <td>31</td>\n",
              "      <td>0</td>\n",
              "    </tr>\n",
              "    <tr>\n",
              "      <th>2</th>\n",
              "      <td>8</td>\n",
              "      <td>183</td>\n",
              "      <td>64</td>\n",
              "      <td>0</td>\n",
              "      <td>0</td>\n",
              "      <td>23.3</td>\n",
              "      <td>0.672</td>\n",
              "      <td>32</td>\n",
              "      <td>1</td>\n",
              "    </tr>\n",
              "    <tr>\n",
              "      <th>3</th>\n",
              "      <td>1</td>\n",
              "      <td>89</td>\n",
              "      <td>66</td>\n",
              "      <td>23</td>\n",
              "      <td>94</td>\n",
              "      <td>28.1</td>\n",
              "      <td>0.167</td>\n",
              "      <td>21</td>\n",
              "      <td>0</td>\n",
              "    </tr>\n",
              "    <tr>\n",
              "      <th>4</th>\n",
              "      <td>0</td>\n",
              "      <td>137</td>\n",
              "      <td>40</td>\n",
              "      <td>35</td>\n",
              "      <td>168</td>\n",
              "      <td>43.1</td>\n",
              "      <td>2.288</td>\n",
              "      <td>33</td>\n",
              "      <td>1</td>\n",
              "    </tr>\n",
              "    <tr>\n",
              "      <th>...</th>\n",
              "      <td>...</td>\n",
              "      <td>...</td>\n",
              "      <td>...</td>\n",
              "      <td>...</td>\n",
              "      <td>...</td>\n",
              "      <td>...</td>\n",
              "      <td>...</td>\n",
              "      <td>...</td>\n",
              "      <td>...</td>\n",
              "    </tr>\n",
              "    <tr>\n",
              "      <th>763</th>\n",
              "      <td>10</td>\n",
              "      <td>101</td>\n",
              "      <td>76</td>\n",
              "      <td>48</td>\n",
              "      <td>180</td>\n",
              "      <td>32.9</td>\n",
              "      <td>0.171</td>\n",
              "      <td>63</td>\n",
              "      <td>0</td>\n",
              "    </tr>\n",
              "    <tr>\n",
              "      <th>764</th>\n",
              "      <td>2</td>\n",
              "      <td>122</td>\n",
              "      <td>70</td>\n",
              "      <td>27</td>\n",
              "      <td>0</td>\n",
              "      <td>36.8</td>\n",
              "      <td>0.340</td>\n",
              "      <td>27</td>\n",
              "      <td>0</td>\n",
              "    </tr>\n",
              "    <tr>\n",
              "      <th>765</th>\n",
              "      <td>5</td>\n",
              "      <td>121</td>\n",
              "      <td>72</td>\n",
              "      <td>23</td>\n",
              "      <td>112</td>\n",
              "      <td>26.2</td>\n",
              "      <td>0.245</td>\n",
              "      <td>30</td>\n",
              "      <td>0</td>\n",
              "    </tr>\n",
              "    <tr>\n",
              "      <th>766</th>\n",
              "      <td>1</td>\n",
              "      <td>126</td>\n",
              "      <td>60</td>\n",
              "      <td>0</td>\n",
              "      <td>0</td>\n",
              "      <td>30.1</td>\n",
              "      <td>0.349</td>\n",
              "      <td>47</td>\n",
              "      <td>1</td>\n",
              "    </tr>\n",
              "    <tr>\n",
              "      <th>767</th>\n",
              "      <td>1</td>\n",
              "      <td>93</td>\n",
              "      <td>70</td>\n",
              "      <td>31</td>\n",
              "      <td>0</td>\n",
              "      <td>30.4</td>\n",
              "      <td>0.315</td>\n",
              "      <td>23</td>\n",
              "      <td>0</td>\n",
              "    </tr>\n",
              "  </tbody>\n",
              "</table>\n",
              "<p>768 rows × 9 columns</p>\n",
              "</div>"
            ],
            "text/plain": [
              "     enbarazos  plas  presion  piel  prueba  masa  pedigri  edad  diabetes\n",
              "0            6   148       72    35       0  33.6    0.627    50         1\n",
              "1            1    85       66    29       0  26.6    0.351    31         0\n",
              "2            8   183       64     0       0  23.3    0.672    32         1\n",
              "3            1    89       66    23      94  28.1    0.167    21         0\n",
              "4            0   137       40    35     168  43.1    2.288    33         1\n",
              "..         ...   ...      ...   ...     ...   ...      ...   ...       ...\n",
              "763         10   101       76    48     180  32.9    0.171    63         0\n",
              "764          2   122       70    27       0  36.8    0.340    27         0\n",
              "765          5   121       72    23     112  26.2    0.245    30         0\n",
              "766          1   126       60     0       0  30.1    0.349    47         1\n",
              "767          1    93       70    31       0  30.4    0.315    23         0\n",
              "\n",
              "[768 rows x 9 columns]"
            ]
          },
          "metadata": {
            "tags": []
          },
          "execution_count": 77
        }
      ]
    },
    {
      "cell_type": "code",
      "metadata": {
        "id": "532MUWuIwIVA"
      },
      "source": [
        "X=data.drop('diabetes',axis=1)\r\n",
        "y=data['diabetes']"
      ],
      "execution_count": 78,
      "outputs": []
    },
    {
      "cell_type": "code",
      "metadata": {
        "colab": {
          "base_uri": "https://localhost:8080/"
        },
        "id": "NpfSBZ2Qwra3",
        "outputId": "af5ad11f-f340-4479-d84a-9bda0309adf5"
      },
      "source": [
        "print(X)\r\n",
        "print(y)"
      ],
      "execution_count": 79,
      "outputs": [
        {
          "output_type": "stream",
          "text": [
            "     enbarazos  plas  presion  piel  prueba  masa  pedigri  edad\n",
            "0            6   148       72    35       0  33.6    0.627    50\n",
            "1            1    85       66    29       0  26.6    0.351    31\n",
            "2            8   183       64     0       0  23.3    0.672    32\n",
            "3            1    89       66    23      94  28.1    0.167    21\n",
            "4            0   137       40    35     168  43.1    2.288    33\n",
            "..         ...   ...      ...   ...     ...   ...      ...   ...\n",
            "763         10   101       76    48     180  32.9    0.171    63\n",
            "764          2   122       70    27       0  36.8    0.340    27\n",
            "765          5   121       72    23     112  26.2    0.245    30\n",
            "766          1   126       60     0       0  30.1    0.349    47\n",
            "767          1    93       70    31       0  30.4    0.315    23\n",
            "\n",
            "[768 rows x 8 columns]\n",
            "0      1\n",
            "1      0\n",
            "2      1\n",
            "3      0\n",
            "4      1\n",
            "      ..\n",
            "763    0\n",
            "764    0\n",
            "765    0\n",
            "766    1\n",
            "767    0\n",
            "Name: diabetes, Length: 768, dtype: int64\n"
          ],
          "name": "stdout"
        }
      ]
    },
    {
      "cell_type": "code",
      "metadata": {
        "colab": {
          "base_uri": "https://localhost:8080/"
        },
        "id": "EArhImME1tAV",
        "outputId": "7f77b740-ba4c-4f81-84a0-50da523db1bd"
      },
      "source": [
        "data.columns.values"
      ],
      "execution_count": 80,
      "outputs": [
        {
          "output_type": "execute_result",
          "data": {
            "text/plain": [
              "array(['enbarazos', 'plas', 'presion', 'piel', 'prueba', 'masa',\n",
              "       'pedigri', 'edad', 'diabetes'], dtype=object)"
            ]
          },
          "metadata": {
            "tags": []
          },
          "execution_count": 80
        }
      ]
    },
    {
      "cell_type": "code",
      "metadata": {
        "colab": {
          "base_uri": "https://localhost:8080/"
        },
        "id": "FnWdUbl01u3v",
        "outputId": "bfa52f76-fe86-465a-c7b3-5760dd870d1f"
      },
      "source": [
        "data.isnull().sum()"
      ],
      "execution_count": 81,
      "outputs": [
        {
          "output_type": "execute_result",
          "data": {
            "text/plain": [
              "enbarazos    0\n",
              "plas         0\n",
              "presion      0\n",
              "piel         0\n",
              "prueba       0\n",
              "masa         0\n",
              "pedigri      0\n",
              "edad         0\n",
              "diabetes     0\n",
              "dtype: int64"
            ]
          },
          "metadata": {
            "tags": []
          },
          "execution_count": 81
        }
      ]
    },
    {
      "cell_type": "code",
      "metadata": {
        "colab": {
          "base_uri": "https://localhost:8080/"
        },
        "id": "ZFhQ5if413DM",
        "outputId": "33390b28-997b-4d41-fac4-544f71f8618f"
      },
      "source": [
        "data.info()"
      ],
      "execution_count": 82,
      "outputs": [
        {
          "output_type": "stream",
          "text": [
            "<class 'pandas.core.frame.DataFrame'>\n",
            "RangeIndex: 768 entries, 0 to 767\n",
            "Data columns (total 9 columns):\n",
            " #   Column     Non-Null Count  Dtype  \n",
            "---  ------     --------------  -----  \n",
            " 0   enbarazos  768 non-null    int64  \n",
            " 1   plas       768 non-null    int64  \n",
            " 2   presion    768 non-null    int64  \n",
            " 3   piel       768 non-null    int64  \n",
            " 4   prueba     768 non-null    int64  \n",
            " 5   masa       768 non-null    float64\n",
            " 6   pedigri    768 non-null    float64\n",
            " 7   edad       768 non-null    int64  \n",
            " 8   diabetes   768 non-null    int64  \n",
            "dtypes: float64(2), int64(7)\n",
            "memory usage: 54.1 KB\n"
          ],
          "name": "stdout"
        }
      ]
    },
    {
      "cell_type": "code",
      "metadata": {
        "colab": {
          "base_uri": "https://localhost:8080/",
          "height": 328
        },
        "id": "R8UBJtS8xwVH",
        "outputId": "4599b930-69c3-43a2-b571-625dc6e09be7"
      },
      "source": [
        "data.describe().transpose()"
      ],
      "execution_count": 83,
      "outputs": [
        {
          "output_type": "execute_result",
          "data": {
            "text/html": [
              "<div>\n",
              "<style scoped>\n",
              "    .dataframe tbody tr th:only-of-type {\n",
              "        vertical-align: middle;\n",
              "    }\n",
              "\n",
              "    .dataframe tbody tr th {\n",
              "        vertical-align: top;\n",
              "    }\n",
              "\n",
              "    .dataframe thead th {\n",
              "        text-align: right;\n",
              "    }\n",
              "</style>\n",
              "<table border=\"1\" class=\"dataframe\">\n",
              "  <thead>\n",
              "    <tr style=\"text-align: right;\">\n",
              "      <th></th>\n",
              "      <th>count</th>\n",
              "      <th>mean</th>\n",
              "      <th>std</th>\n",
              "      <th>min</th>\n",
              "      <th>25%</th>\n",
              "      <th>50%</th>\n",
              "      <th>75%</th>\n",
              "      <th>max</th>\n",
              "    </tr>\n",
              "  </thead>\n",
              "  <tbody>\n",
              "    <tr>\n",
              "      <th>enbarazos</th>\n",
              "      <td>768.0</td>\n",
              "      <td>3.845052</td>\n",
              "      <td>3.369578</td>\n",
              "      <td>0.000</td>\n",
              "      <td>1.00000</td>\n",
              "      <td>3.0000</td>\n",
              "      <td>6.00000</td>\n",
              "      <td>17.00</td>\n",
              "    </tr>\n",
              "    <tr>\n",
              "      <th>plas</th>\n",
              "      <td>768.0</td>\n",
              "      <td>120.894531</td>\n",
              "      <td>31.972618</td>\n",
              "      <td>0.000</td>\n",
              "      <td>99.00000</td>\n",
              "      <td>117.0000</td>\n",
              "      <td>140.25000</td>\n",
              "      <td>199.00</td>\n",
              "    </tr>\n",
              "    <tr>\n",
              "      <th>presion</th>\n",
              "      <td>768.0</td>\n",
              "      <td>69.105469</td>\n",
              "      <td>19.355807</td>\n",
              "      <td>0.000</td>\n",
              "      <td>62.00000</td>\n",
              "      <td>72.0000</td>\n",
              "      <td>80.00000</td>\n",
              "      <td>122.00</td>\n",
              "    </tr>\n",
              "    <tr>\n",
              "      <th>piel</th>\n",
              "      <td>768.0</td>\n",
              "      <td>20.536458</td>\n",
              "      <td>15.952218</td>\n",
              "      <td>0.000</td>\n",
              "      <td>0.00000</td>\n",
              "      <td>23.0000</td>\n",
              "      <td>32.00000</td>\n",
              "      <td>99.00</td>\n",
              "    </tr>\n",
              "    <tr>\n",
              "      <th>prueba</th>\n",
              "      <td>768.0</td>\n",
              "      <td>79.799479</td>\n",
              "      <td>115.244002</td>\n",
              "      <td>0.000</td>\n",
              "      <td>0.00000</td>\n",
              "      <td>30.5000</td>\n",
              "      <td>127.25000</td>\n",
              "      <td>846.00</td>\n",
              "    </tr>\n",
              "    <tr>\n",
              "      <th>masa</th>\n",
              "      <td>768.0</td>\n",
              "      <td>31.992578</td>\n",
              "      <td>7.884160</td>\n",
              "      <td>0.000</td>\n",
              "      <td>27.30000</td>\n",
              "      <td>32.0000</td>\n",
              "      <td>36.60000</td>\n",
              "      <td>67.10</td>\n",
              "    </tr>\n",
              "    <tr>\n",
              "      <th>pedigri</th>\n",
              "      <td>768.0</td>\n",
              "      <td>0.471876</td>\n",
              "      <td>0.331329</td>\n",
              "      <td>0.078</td>\n",
              "      <td>0.24375</td>\n",
              "      <td>0.3725</td>\n",
              "      <td>0.62625</td>\n",
              "      <td>2.42</td>\n",
              "    </tr>\n",
              "    <tr>\n",
              "      <th>edad</th>\n",
              "      <td>768.0</td>\n",
              "      <td>33.240885</td>\n",
              "      <td>11.760232</td>\n",
              "      <td>21.000</td>\n",
              "      <td>24.00000</td>\n",
              "      <td>29.0000</td>\n",
              "      <td>41.00000</td>\n",
              "      <td>81.00</td>\n",
              "    </tr>\n",
              "    <tr>\n",
              "      <th>diabetes</th>\n",
              "      <td>768.0</td>\n",
              "      <td>0.348958</td>\n",
              "      <td>0.476951</td>\n",
              "      <td>0.000</td>\n",
              "      <td>0.00000</td>\n",
              "      <td>0.0000</td>\n",
              "      <td>1.00000</td>\n",
              "      <td>1.00</td>\n",
              "    </tr>\n",
              "  </tbody>\n",
              "</table>\n",
              "</div>"
            ],
            "text/plain": [
              "           count        mean         std  ...       50%        75%     max\n",
              "enbarazos  768.0    3.845052    3.369578  ...    3.0000    6.00000   17.00\n",
              "plas       768.0  120.894531   31.972618  ...  117.0000  140.25000  199.00\n",
              "presion    768.0   69.105469   19.355807  ...   72.0000   80.00000  122.00\n",
              "piel       768.0   20.536458   15.952218  ...   23.0000   32.00000   99.00\n",
              "prueba     768.0   79.799479  115.244002  ...   30.5000  127.25000  846.00\n",
              "masa       768.0   31.992578    7.884160  ...   32.0000   36.60000   67.10\n",
              "pedigri    768.0    0.471876    0.331329  ...    0.3725    0.62625    2.42\n",
              "edad       768.0   33.240885   11.760232  ...   29.0000   41.00000   81.00\n",
              "diabetes   768.0    0.348958    0.476951  ...    0.0000    1.00000    1.00\n",
              "\n",
              "[9 rows x 8 columns]"
            ]
          },
          "metadata": {
            "tags": []
          },
          "execution_count": 83
        }
      ]
    },
    {
      "cell_type": "code",
      "metadata": {
        "colab": {
          "base_uri": "https://localhost:8080/",
          "height": 867
        },
        "id": "-9zDuFdc2O08",
        "outputId": "1947618a-c430-44ea-c0b4-644dbb1ec4c3"
      },
      "source": [
        "sns.set(style=\"whitegrid\",font_scale=1)\r\n",
        "plt.figure(figsize=(15,15))\r\n",
        "plt.title('Coeficiente correlacion de Person', fontsize = 20)\r\n",
        "sns.heatmap(data.corr(),vmax=0.7,square=True,cmap='GnBu',linecolor='b',annot=True,annot_kws={\"size\":8})"
      ],
      "execution_count": 84,
      "outputs": [
        {
          "output_type": "execute_result",
          "data": {
            "text/plain": [
              "<matplotlib.axes._subplots.AxesSubplot at 0x7fe38baa86d8>"
            ]
          },
          "metadata": {
            "tags": []
          },
          "execution_count": 84
        },
        {
          "output_type": "display_data",
          "data": {
            "image/png": "[encoded data removed]",
            "text/plain": [
              "<Figure size 1080x1080 with 2 Axes>"
            ]
          },
          "metadata": {
            "tags": []
          }
        }
      ]
    },
    {
      "cell_type": "code",
      "metadata": {
        "colab": {
          "base_uri": "https://localhost:8080/",
          "height": 745
        },
        "id": "GFgcqXWW2rQt",
        "outputId": "8fe0ee47-1243-406d-a26b-017a727853d7"
      },
      "source": [
        "f,axes= plt.subplots(1,2,figsize=(15,5))\r\n",
        "sns.displot(data['diabetes'],ax=axes[1])\r\n",
        "sns.scatterplot(x='diabetes',y='plas',data= data,ax=axes[0])\r\n",
        "sns.despine(bottom=True,left=True)"
      ],
      "execution_count": 85,
      "outputs": [
        {
          "output_type": "stream",
          "text": [
            "/usr/local/lib/python3.6/dist-packages/seaborn/distributions.py:2164: UserWarning: `displot` is a figure-level function and does not accept the ax= paramter. You may wish to try histplot.\n",
            "  warnings.warn(msg, UserWarning)\n"
          ],
          "name": "stderr"
        },
        {
          "output_type": "display_data",
          "data": {
            "image/png": "[encoded data removed]",
            "text/plain": [
              "<Figure size 1080x360 with 2 Axes>"
            ]
          },
          "metadata": {
            "tags": []
          }
        },
        {
          "output_type": "display_data",
          "data": {
            "image/png": "[encoded data removed]",
            "text/plain": [
              "<Figure size 360x360 with 1 Axes>"
            ]
          },
          "metadata": {
            "tags": []
          }
        }
      ]
    },
    {
      "cell_type": "code",
      "metadata": {
        "colab": {
          "base_uri": "https://localhost:8080/",
          "height": 745
        },
        "id": "-_fRKcPw34lk",
        "outputId": "dbe94ec9-28bd-43c8-d1e6-10783549895b"
      },
      "source": [
        "f,axes= plt.subplots(1,2,figsize=(15,5))\r\n",
        "sns.displot(data['diabetes'],ax=axes[1])\r\n",
        "sns.scatterplot(x='diabetes',y='masa',data= data,ax=axes[0])\r\n",
        "sns.despine(bottom=True,left=True)"
      ],
      "execution_count": 86,
      "outputs": [
        {
          "output_type": "stream",
          "text": [
            "/usr/local/lib/python3.6/dist-packages/seaborn/distributions.py:2164: UserWarning: `displot` is a figure-level function and does not accept the ax= paramter. You may wish to try histplot.\n",
            "  warnings.warn(msg, UserWarning)\n"
          ],
          "name": "stderr"
        },
        {
          "output_type": "display_data",
          "data": {
            "image/png": "[encoded data removed]",
            "text/plain": [
              "<Figure size 1080x360 with 2 Axes>"
            ]
          },
          "metadata": {
            "tags": []
          }
        },
        {
          "output_type": "display_data",
          "data": {
            "image/png": "[encoded data removed]",
            "text/plain": [
              "<Figure size 360x360 with 1 Axes>"
            ]
          },
          "metadata": {
            "tags": []
          }
        }
      ]
    },
    {
      "cell_type": "code",
      "metadata": {
        "colab": {
          "base_uri": "https://localhost:8080/",
          "height": 745
        },
        "id": "8wS-xAhE38mr",
        "outputId": "4ee17019-8927-42d2-d759-0a707255c86a"
      },
      "source": [
        "f,axes= plt.subplots(1,2,figsize=(15,5))\r\n",
        "sns.displot(data['diabetes'],ax=axes[1])\r\n",
        "sns.scatterplot(x='diabetes',y='edad',data= data,ax=axes[0])\r\n",
        "sns.despine(bottom=True,left=True)"
      ],
      "execution_count": 87,
      "outputs": [
        {
          "output_type": "stream",
          "text": [
            "/usr/local/lib/python3.6/dist-packages/seaborn/distributions.py:2164: UserWarning: `displot` is a figure-level function and does not accept the ax= paramter. You may wish to try histplot.\n",
            "  warnings.warn(msg, UserWarning)\n"
          ],
          "name": "stderr"
        },
        {
          "output_type": "display_data",
          "data": {
            "image/png": "[encoded data removed]",
            "text/plain": [
              "<Figure size 1080x360 with 2 Axes>"
            ]
          },
          "metadata": {
            "tags": []
          }
        },
        {
          "output_type": "display_data",
          "data": {
            "image/png": "[encoded data removed]",
            "text/plain": [
              "<Figure size 360x360 with 1 Axes>"
            ]
          },
          "metadata": {
            "tags": []
          }
        }
      ]
    },
    {
      "cell_type": "code",
      "metadata": {
        "colab": {
          "base_uri": "https://localhost:8080/",
          "height": 454
        },
        "id": "VfeBYV844SeC",
        "outputId": "3e753e1a-434c-4bcd-f2fb-9e3f48146494"
      },
      "source": [
        "data.hist()"
      ],
      "execution_count": 88,
      "outputs": [
        {
          "output_type": "execute_result",
          "data": {
            "text/plain": [
              "array([[<matplotlib.axes._subplots.AxesSubplot object at 0x7fe384eee668>,\n",
              "        <matplotlib.axes._subplots.AxesSubplot object at 0x7fe388c22fd0>,\n",
              "        <matplotlib.axes._subplots.AxesSubplot object at 0x7fe388c2c208>],\n",
              "       [<matplotlib.axes._subplots.AxesSubplot object at 0x7fe388c647f0>,\n",
              "        <matplotlib.axes._subplots.AxesSubplot object at 0x7fe3869c5f60>,\n",
              "        <matplotlib.axes._subplots.AxesSubplot object at 0x7fe38693e710>],\n",
              "       [<matplotlib.axes._subplots.AxesSubplot object at 0x7fe387ad4e80>,\n",
              "        <matplotlib.axes._subplots.AxesSubplot object at 0x7fe3857be5f8>,\n",
              "        <matplotlib.axes._subplots.AxesSubplot object at 0x7fe3857be668>]],\n",
              "      dtype=object)"
            ]
          },
          "metadata": {
            "tags": []
          },
          "execution_count": 88
        },
        {
          "output_type": "display_data",
          "data": {
            "image/png": "[encoded data removed]",
            "text/plain": [
              "<Figure size 432x288 with 9 Axes>"
            ]
          },
          "metadata": {
            "tags": []
          }
        }
      ]
    },
    {
      "cell_type": "code",
      "metadata": {
        "id": "temAwR_iwxpX"
      },
      "source": [
        "X_train,X_test,y_train,y_test=train_test_split(X,y,test_size=0.3,random_state=42)"
      ],
      "execution_count": 89,
      "outputs": []
    },
    {
      "cell_type": "code",
      "metadata": {
        "colab": {
          "base_uri": "https://localhost:8080/",
          "height": 419
        },
        "id": "oNfXXyEr4yXt",
        "outputId": "72902627-5988-459c-d0ab-21c08decfea1"
      },
      "source": [
        "X_train"
      ],
      "execution_count": 90,
      "outputs": [
        {
          "output_type": "execute_result",
          "data": {
            "text/html": [
              "<div>\n",
              "<style scoped>\n",
              "    .dataframe tbody tr th:only-of-type {\n",
              "        vertical-align: middle;\n",
              "    }\n",
              "\n",
              "    .dataframe tbody tr th {\n",
              "        vertical-align: top;\n",
              "    }\n",
              "\n",
              "    .dataframe thead th {\n",
              "        text-align: right;\n",
              "    }\n",
              "</style>\n",
              "<table border=\"1\" class=\"dataframe\">\n",
              "  <thead>\n",
              "    <tr style=\"text-align: right;\">\n",
              "      <th></th>\n",
              "      <th>enbarazos</th>\n",
              "      <th>plas</th>\n",
              "      <th>presion</th>\n",
              "      <th>piel</th>\n",
              "      <th>prueba</th>\n",
              "      <th>masa</th>\n",
              "      <th>pedigri</th>\n",
              "      <th>edad</th>\n",
              "    </tr>\n",
              "  </thead>\n",
              "  <tbody>\n",
              "    <tr>\n",
              "      <th>334</th>\n",
              "      <td>1</td>\n",
              "      <td>95</td>\n",
              "      <td>60</td>\n",
              "      <td>18</td>\n",
              "      <td>58</td>\n",
              "      <td>23.9</td>\n",
              "      <td>0.260</td>\n",
              "      <td>22</td>\n",
              "    </tr>\n",
              "    <tr>\n",
              "      <th>139</th>\n",
              "      <td>5</td>\n",
              "      <td>105</td>\n",
              "      <td>72</td>\n",
              "      <td>29</td>\n",
              "      <td>325</td>\n",
              "      <td>36.9</td>\n",
              "      <td>0.159</td>\n",
              "      <td>28</td>\n",
              "    </tr>\n",
              "    <tr>\n",
              "      <th>485</th>\n",
              "      <td>0</td>\n",
              "      <td>135</td>\n",
              "      <td>68</td>\n",
              "      <td>42</td>\n",
              "      <td>250</td>\n",
              "      <td>42.3</td>\n",
              "      <td>0.365</td>\n",
              "      <td>24</td>\n",
              "    </tr>\n",
              "    <tr>\n",
              "      <th>547</th>\n",
              "      <td>4</td>\n",
              "      <td>131</td>\n",
              "      <td>68</td>\n",
              "      <td>21</td>\n",
              "      <td>166</td>\n",
              "      <td>33.1</td>\n",
              "      <td>0.160</td>\n",
              "      <td>28</td>\n",
              "    </tr>\n",
              "    <tr>\n",
              "      <th>18</th>\n",
              "      <td>1</td>\n",
              "      <td>103</td>\n",
              "      <td>30</td>\n",
              "      <td>38</td>\n",
              "      <td>83</td>\n",
              "      <td>43.3</td>\n",
              "      <td>0.183</td>\n",
              "      <td>33</td>\n",
              "    </tr>\n",
              "    <tr>\n",
              "      <th>...</th>\n",
              "      <td>...</td>\n",
              "      <td>...</td>\n",
              "      <td>...</td>\n",
              "      <td>...</td>\n",
              "      <td>...</td>\n",
              "      <td>...</td>\n",
              "      <td>...</td>\n",
              "      <td>...</td>\n",
              "    </tr>\n",
              "    <tr>\n",
              "      <th>71</th>\n",
              "      <td>5</td>\n",
              "      <td>139</td>\n",
              "      <td>64</td>\n",
              "      <td>35</td>\n",
              "      <td>140</td>\n",
              "      <td>28.6</td>\n",
              "      <td>0.411</td>\n",
              "      <td>26</td>\n",
              "    </tr>\n",
              "    <tr>\n",
              "      <th>106</th>\n",
              "      <td>1</td>\n",
              "      <td>96</td>\n",
              "      <td>122</td>\n",
              "      <td>0</td>\n",
              "      <td>0</td>\n",
              "      <td>22.4</td>\n",
              "      <td>0.207</td>\n",
              "      <td>27</td>\n",
              "    </tr>\n",
              "    <tr>\n",
              "      <th>270</th>\n",
              "      <td>10</td>\n",
              "      <td>101</td>\n",
              "      <td>86</td>\n",
              "      <td>37</td>\n",
              "      <td>0</td>\n",
              "      <td>45.6</td>\n",
              "      <td>1.136</td>\n",
              "      <td>38</td>\n",
              "    </tr>\n",
              "    <tr>\n",
              "      <th>435</th>\n",
              "      <td>0</td>\n",
              "      <td>141</td>\n",
              "      <td>0</td>\n",
              "      <td>0</td>\n",
              "      <td>0</td>\n",
              "      <td>42.4</td>\n",
              "      <td>0.205</td>\n",
              "      <td>29</td>\n",
              "    </tr>\n",
              "    <tr>\n",
              "      <th>102</th>\n",
              "      <td>0</td>\n",
              "      <td>125</td>\n",
              "      <td>96</td>\n",
              "      <td>0</td>\n",
              "      <td>0</td>\n",
              "      <td>22.5</td>\n",
              "      <td>0.262</td>\n",
              "      <td>21</td>\n",
              "    </tr>\n",
              "  </tbody>\n",
              "</table>\n",
              "<p>537 rows × 8 columns</p>\n",
              "</div>"
            ],
            "text/plain": [
              "     enbarazos  plas  presion  piel  prueba  masa  pedigri  edad\n",
              "334          1    95       60    18      58  23.9    0.260    22\n",
              "139          5   105       72    29     325  36.9    0.159    28\n",
              "485          0   135       68    42     250  42.3    0.365    24\n",
              "547          4   131       68    21     166  33.1    0.160    28\n",
              "18           1   103       30    38      83  43.3    0.183    33\n",
              "..         ...   ...      ...   ...     ...   ...      ...   ...\n",
              "71           5   139       64    35     140  28.6    0.411    26\n",
              "106          1    96      122     0       0  22.4    0.207    27\n",
              "270         10   101       86    37       0  45.6    1.136    38\n",
              "435          0   141        0     0       0  42.4    0.205    29\n",
              "102          0   125       96     0       0  22.5    0.262    21\n",
              "\n",
              "[537 rows x 8 columns]"
            ]
          },
          "metadata": {
            "tags": []
          },
          "execution_count": 90
        }
      ]
    },
    {
      "cell_type": "code",
      "metadata": {
        "colab": {
          "base_uri": "https://localhost:8080/",
          "height": 419
        },
        "id": "lYvy__XN42ti",
        "outputId": "3fe749d0-be91-48e3-cae2-4f64ea946e24"
      },
      "source": [
        "X_test"
      ],
      "execution_count": 91,
      "outputs": [
        {
          "output_type": "execute_result",
          "data": {
            "text/html": [
              "<div>\n",
              "<style scoped>\n",
              "    .dataframe tbody tr th:only-of-type {\n",
              "        vertical-align: middle;\n",
              "    }\n",
              "\n",
              "    .dataframe tbody tr th {\n",
              "        vertical-align: top;\n",
              "    }\n",
              "\n",
              "    .dataframe thead th {\n",
              "        text-align: right;\n",
              "    }\n",
              "</style>\n",
              "<table border=\"1\" class=\"dataframe\">\n",
              "  <thead>\n",
              "    <tr style=\"text-align: right;\">\n",
              "      <th></th>\n",
              "      <th>enbarazos</th>\n",
              "      <th>plas</th>\n",
              "      <th>presion</th>\n",
              "      <th>piel</th>\n",
              "      <th>prueba</th>\n",
              "      <th>masa</th>\n",
              "      <th>pedigri</th>\n",
              "      <th>edad</th>\n",
              "    </tr>\n",
              "  </thead>\n",
              "  <tbody>\n",
              "    <tr>\n",
              "      <th>668</th>\n",
              "      <td>6</td>\n",
              "      <td>98</td>\n",
              "      <td>58</td>\n",
              "      <td>33</td>\n",
              "      <td>190</td>\n",
              "      <td>34.0</td>\n",
              "      <td>0.430</td>\n",
              "      <td>43</td>\n",
              "    </tr>\n",
              "    <tr>\n",
              "      <th>324</th>\n",
              "      <td>2</td>\n",
              "      <td>112</td>\n",
              "      <td>75</td>\n",
              "      <td>32</td>\n",
              "      <td>0</td>\n",
              "      <td>35.7</td>\n",
              "      <td>0.148</td>\n",
              "      <td>21</td>\n",
              "    </tr>\n",
              "    <tr>\n",
              "      <th>624</th>\n",
              "      <td>2</td>\n",
              "      <td>108</td>\n",
              "      <td>64</td>\n",
              "      <td>0</td>\n",
              "      <td>0</td>\n",
              "      <td>30.8</td>\n",
              "      <td>0.158</td>\n",
              "      <td>21</td>\n",
              "    </tr>\n",
              "    <tr>\n",
              "      <th>690</th>\n",
              "      <td>8</td>\n",
              "      <td>107</td>\n",
              "      <td>80</td>\n",
              "      <td>0</td>\n",
              "      <td>0</td>\n",
              "      <td>24.6</td>\n",
              "      <td>0.856</td>\n",
              "      <td>34</td>\n",
              "    </tr>\n",
              "    <tr>\n",
              "      <th>473</th>\n",
              "      <td>7</td>\n",
              "      <td>136</td>\n",
              "      <td>90</td>\n",
              "      <td>0</td>\n",
              "      <td>0</td>\n",
              "      <td>29.9</td>\n",
              "      <td>0.210</td>\n",
              "      <td>50</td>\n",
              "    </tr>\n",
              "    <tr>\n",
              "      <th>...</th>\n",
              "      <td>...</td>\n",
              "      <td>...</td>\n",
              "      <td>...</td>\n",
              "      <td>...</td>\n",
              "      <td>...</td>\n",
              "      <td>...</td>\n",
              "      <td>...</td>\n",
              "      <td>...</td>\n",
              "    </tr>\n",
              "    <tr>\n",
              "      <th>619</th>\n",
              "      <td>0</td>\n",
              "      <td>119</td>\n",
              "      <td>0</td>\n",
              "      <td>0</td>\n",
              "      <td>0</td>\n",
              "      <td>32.4</td>\n",
              "      <td>0.141</td>\n",
              "      <td>24</td>\n",
              "    </tr>\n",
              "    <tr>\n",
              "      <th>198</th>\n",
              "      <td>4</td>\n",
              "      <td>109</td>\n",
              "      <td>64</td>\n",
              "      <td>44</td>\n",
              "      <td>99</td>\n",
              "      <td>34.8</td>\n",
              "      <td>0.905</td>\n",
              "      <td>26</td>\n",
              "    </tr>\n",
              "    <tr>\n",
              "      <th>538</th>\n",
              "      <td>0</td>\n",
              "      <td>127</td>\n",
              "      <td>80</td>\n",
              "      <td>37</td>\n",
              "      <td>210</td>\n",
              "      <td>36.3</td>\n",
              "      <td>0.804</td>\n",
              "      <td>23</td>\n",
              "    </tr>\n",
              "    <tr>\n",
              "      <th>329</th>\n",
              "      <td>6</td>\n",
              "      <td>105</td>\n",
              "      <td>70</td>\n",
              "      <td>32</td>\n",
              "      <td>68</td>\n",
              "      <td>30.8</td>\n",
              "      <td>0.122</td>\n",
              "      <td>37</td>\n",
              "    </tr>\n",
              "    <tr>\n",
              "      <th>302</th>\n",
              "      <td>5</td>\n",
              "      <td>77</td>\n",
              "      <td>82</td>\n",
              "      <td>41</td>\n",
              "      <td>42</td>\n",
              "      <td>35.8</td>\n",
              "      <td>0.156</td>\n",
              "      <td>35</td>\n",
              "    </tr>\n",
              "  </tbody>\n",
              "</table>\n",
              "<p>231 rows × 8 columns</p>\n",
              "</div>"
            ],
            "text/plain": [
              "     enbarazos  plas  presion  piel  prueba  masa  pedigri  edad\n",
              "668          6    98       58    33     190  34.0    0.430    43\n",
              "324          2   112       75    32       0  35.7    0.148    21\n",
              "624          2   108       64     0       0  30.8    0.158    21\n",
              "690          8   107       80     0       0  24.6    0.856    34\n",
              "473          7   136       90     0       0  29.9    0.210    50\n",
              "..         ...   ...      ...   ...     ...   ...      ...   ...\n",
              "619          0   119        0     0       0  32.4    0.141    24\n",
              "198          4   109       64    44      99  34.8    0.905    26\n",
              "538          0   127       80    37     210  36.3    0.804    23\n",
              "329          6   105       70    32      68  30.8    0.122    37\n",
              "302          5    77       82    41      42  35.8    0.156    35\n",
              "\n",
              "[231 rows x 8 columns]"
            ]
          },
          "metadata": {
            "tags": []
          },
          "execution_count": 91
        }
      ]
    },
    {
      "cell_type": "code",
      "metadata": {
        "colab": {
          "base_uri": "https://localhost:8080/"
        },
        "id": "_OVUCmfZ459C",
        "outputId": "8f13cd37-6936-4f65-ee92-f981c0d2ae17"
      },
      "source": [
        "y_train"
      ],
      "execution_count": 92,
      "outputs": [
        {
          "output_type": "execute_result",
          "data": {
            "text/plain": [
              "334    0\n",
              "139    0\n",
              "485    1\n",
              "547    0\n",
              "18     0\n",
              "      ..\n",
              "71     0\n",
              "106    0\n",
              "270    1\n",
              "435    1\n",
              "102    0\n",
              "Name: diabetes, Length: 537, dtype: int64"
            ]
          },
          "metadata": {
            "tags": []
          },
          "execution_count": 92
        }
      ]
    },
    {
      "cell_type": "code",
      "metadata": {
        "colab": {
          "base_uri": "https://localhost:8080/"
        },
        "id": "0nLi7t9-4-gL",
        "outputId": "c52d2ee0-2cae-42e9-9bfb-fc983f085b2b"
      },
      "source": [
        "y_test"
      ],
      "execution_count": 93,
      "outputs": [
        {
          "output_type": "execute_result",
          "data": {
            "text/plain": [
              "668    0\n",
              "324    0\n",
              "624    0\n",
              "690    0\n",
              "473    0\n",
              "      ..\n",
              "619    1\n",
              "198    1\n",
              "538    0\n",
              "329    0\n",
              "302    0\n",
              "Name: diabetes, Length: 231, dtype: int64"
            ]
          },
          "metadata": {
            "tags": []
          },
          "execution_count": 93
        }
      ]
    },
    {
      "cell_type": "code",
      "metadata": {
        "id": "TmWa0A1FH3nW"
      },
      "source": [
        "cvscores=[]"
      ],
      "execution_count": 103,
      "outputs": []
    },
    {
      "cell_type": "code",
      "metadata": {
        "colab": {
          "base_uri": "https://localhost:8080/"
        },
        "id": "WO51RHSl5oMa",
        "outputId": "84e32e8d-4109-4524-a382-eca217266b7e"
      },
      "source": [
        "model = Sequential() \r\n",
        "model.add(Dense(5, input_dim=8, kernel_initializer= \"uniform\" , activation= \"relu\" )) \r\n",
        "model.add(Dense(3, kernel_initializer= \"uniform\" , activation= \"relu\" )) \r\n",
        "model.add(Dense(1, kernel_initializer= \"uniform\" , activation= \"sigmoid\" )) \r\n",
        "     # Compile model \r\n",
        "model.compile(loss= \"binary_crossentropy\" , optimizer= \"adam\" , metrics=[\"accuracy\"]) \r\n",
        "     # Fit the model \r\n",
        "model.fit(X_train, y_train, epochs=1000, batch_size=50, verbose=0) \r\n",
        "     # evaluate the model \r\n",
        "     \r\n",
        "scores = model.evaluate(X_train, y_train, verbose=0) \r\n",
        "\r\n",
        "print(\"%s: %.2f%%\" % (model.metrics_names[1], scores[1]*100)) \r\n",
        "cvscores.append(scores[1] * 100)"
      ],
      "execution_count": 131,
      "outputs": [
        {
          "output_type": "stream",
          "text": [
            "accuracy: 76.35%\n"
          ],
          "name": "stdout"
        }
      ]
    },
    {
      "cell_type": "code",
      "metadata": {
        "colab": {
          "base_uri": "https://localhost:8080/"
        },
        "id": "DFDSRsgD8rwS",
        "outputId": "a739a4a4-f7e2-45ee-bbfa-1fd3cdc143c3"
      },
      "source": [
        "scores = model.evaluate(X_test, y_test, verbose=0) \r\n",
        "\r\n",
        "print(\"%s: %.2f%%\" % (model.metrics_names[1], scores[1]*100)) \r\n",
        "cvscores.append(scores[1] * 100)"
      ],
      "execution_count": 132,
      "outputs": [
        {
          "output_type": "stream",
          "text": [
            "accuracy: 74.03%\n"
          ],
          "name": "stdout"
        }
      ]
    },
    {
      "cell_type": "code",
      "metadata": {
        "id": "s0lILgvpKHVU"
      },
      "source": [
        ""
      ],
      "execution_count": null,
      "outputs": []
    }
  ]
}